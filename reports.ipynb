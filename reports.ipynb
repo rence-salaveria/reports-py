{
 "cells": [
  {
   "cell_type": "code",
   "execution_count": 1,
   "id": "21f66984-53a8-4967-9d29-c1e7961a70e7",
   "metadata": {
    "pycharm": {
     "name": "#%%\n"
    },
    "tags": []
   },
   "outputs": [],
   "source": [
    "# comment\n",
    "from ipywidgets import widgets\n",
    "import matplotlib.pyplot as plt\n",
    "from IPython.display import display\n",
    "import requests\n",
    "import json"
   ]
  },
  {
   "cell_type": "code",
   "execution_count": 2,
   "id": "6beece46-f75a-4f9a-8b6d-62100ed68fe3",
   "metadata": {},
   "outputs": [],
   "source": [
    "# get data for the graphs\n",
    "data = requests.get('http://hainco-sb.herokuapp.com/api/product/frequency')\n",
    "data = data.json()\n",
    "\n",
    "frequently_bought = data.get('frequentlyBought')\n",
    "not_frequently_bought = data.get('notFrequentlyBought')\n",
    "\n",
    "consumable_freq = []\n",
    "consumable_not_freq = []\n",
    "\n",
    "# transform data to consumable in plt\n",
    "for product in frequently_bought:\n",
    "    parsed = {\n",
    "        'count': product.get('_count').get('order_product_code'),\n",
    "        'product': product.get('order_product_code')\n",
    "    }\n",
    "    consumable_freq.append(parsed)\n",
    "    \n",
    "for product in not_frequently_bought:\n",
    "    parsed = {\n",
    "        'count': product.get('_count').get('order_product_code'),\n",
    "        'product': product.get('order_product_code')\n",
    "    }\n",
    "    consumable_not_freq.append(parsed)"
   ]
  },
  {
   "cell_type": "markdown",
   "id": "c3ce9bb1-8f35-4df1-86ba-8f0f5ac0cf05",
   "metadata": {
    "pycharm": {
     "name": "#%% md\n"
    },
    "tags": []
   },
   "source": [
    "## Products bought mostly (Bar Graph)\n",
    "This section shows the products mostly bought by the customers"
   ]
  },
  {
   "cell_type": "code",
   "execution_count": 3,
   "id": "ae638b81",
   "metadata": {
    "pycharm": {
     "name": "#%%\n"
    },
    "tags": []
   },
   "outputs": [
    {
     "data": {
      "image/png": "[encoded data removed]",
      "text/plain": [
       "<Figure size 432x288 with 1 Axes>"
      ]
     },
     "metadata": {
      "needs_background": "light"
     },
     "output_type": "display_data"
    }
   ],
   "source": [
    "# counter for the bars \n",
    "count = 0\n",
    "\n",
    "# x-coordinates of left sides of bars \n",
    "left = []\n",
    "  \n",
    "# heights of bars\n",
    "height = []\n",
    "  \n",
    "# labels for bars\n",
    "tick_label = []\n",
    "\n",
    "for product in consumable_freq:\n",
    "    count += 1\n",
    "    left.append(count)\n",
    "    height.append(product.get('count'))\n",
    "    tick_label.append(product.get('product'))\n",
    "  \n",
    "# plotting a bar chart\n",
    "plt.bar(left, height, bottom = 0, tick_label = tick_label,\n",
    "        width = 0.8, color = ['green'])\n",
    "  \n",
    "# naming the x-axis\n",
    "plt.xlabel('Products')\n",
    "# naming the y-axis\n",
    "plt.ylabel('Number of servings left')\n",
    "# plot title\n",
    "plt.title('Products that are frequently bought')\n",
    "  \n",
    "# function to show the plot\n",
    "plt.show()"
   ]
  },
  {
   "cell_type": "markdown",
   "id": "c080bf90",
   "metadata": {
    "jp-MarkdownHeadingCollapsed": true,
    "pycharm": {
     "name": "#%% md\n"
    },
    "tags": []
   },
   "source": [
    "## Products that are not usually bought"
   ]
  },
  {
   "cell_type": "code",
   "execution_count": 4,
   "id": "7ec6fb61",
   "metadata": {
    "pycharm": {
     "name": "#%%\n"
    },
    "tags": []
   },
   "outputs": [
    {
     "data": {
      "image/png": "[encoded data removed]",
      "text/plain": [
       "<Figure size 432x288 with 1 Axes>"
      ]
     },
     "metadata": {
      "needs_background": "light"
     },
     "output_type": "display_data"
    }
   ],
   "source": [
    "# counter for the bars \n",
    "count = 0 \n",
    "    \n",
    "# x-coordinates of left sides of bars \n",
    "left = []\n",
    "  \n",
    "# heights of bars\n",
    "height = []\n",
    "  \n",
    "# labels for bars\n",
    "tick_label = []\n",
    "\n",
    "for product in consumable_not_freq:\n",
    "    count += 1\n",
    "    left.append(count)\n",
    "    height.append(product.get('count'))\n",
    "    tick_label.append(product.get('product'))\n",
    "  \n",
    "  \n",
    "# plotting a bar chart\n",
    "plt.bar(left, height, tick_label = tick_label,\n",
    "        width = 0.8, color = ['red'])\n",
    "  \n",
    "# naming the x-axis\n",
    "plt.xlabel('Products')\n",
    "# naming the y-axis\n",
    "plt.ylabel('Number of servings left')\n",
    "# plot title\n",
    "plt.title('Products that are not usually bought')\n",
    "  \n",
    "# function to show the plot\n",
    "plt.show()"
   ]
  },
  {
   "cell_type": "markdown",
   "id": "76d92bfa",
   "metadata": {
    "pycharm": {
     "name": "#%% md\n"
    },
    "tags": []
   },
   "source": [
    "## Earnings vs Actual Profit (Pie Graph) [Weekly]\n",
    "This report shows the ratio or percentage of the actual profit deducting the costs of ingredients, and other categories"
   ]
  },
  {
   "cell_type": "code",
   "execution_count": 5,
   "id": "87528c0f-d6ae-4029-935e-2720a741540c",
   "metadata": {},
   "outputs": [],
   "source": [
    "revenue_data = requests.get('http://hainco-sb.herokuapp.com/api/order/revenue')\n",
    "weekly_revenue = revenue_data.json().get('weeklyRevenue')"
   ]
  },
  {
   "cell_type": "code",
   "execution_count": 6,
   "id": "370149ae",
   "metadata": {
    "pycharm": {
     "name": "#%%\n"
    }
   },
   "outputs": [
    {
     "data": {
      "application/vnd.jupyter.widget-view+json": {
       "model_id": "56b25f850c444a79a2a7be6cfe39bb2e",
       "version_major": 2,
       "version_minor": 0
      },
      "text/plain": [
       "FloatText(value=325.0, description='Weekly', disabled=True)"
      ]
     },
     "metadata": {},
     "output_type": "display_data"
    },
    {
     "data": {
      "application/vnd.jupyter.widget-view+json": {
       "model_id": "e1f0fdb123544454ac9fda05d86ae326",
       "version_major": 2,
       "version_minor": 0
      },
      "text/plain": [
       "FloatText(value=0.0, description='Ingredient')"
      ]
     },
     "metadata": {},
     "output_type": "display_data"
    },
    {
     "data": {
      "application/vnd.jupyter.widget-view+json": {
       "model_id": "03d1062685434d53851e8a7eb560006f",
       "version_major": 2,
       "version_minor": 0
      },
      "text/plain": [
       "FloatText(value=0.0, description='Delivery')"
      ]
     },
     "metadata": {},
     "output_type": "display_data"
    },
    {
     "data": {
      "application/vnd.jupyter.widget-view+json": {
       "model_id": "229e2722c3844bf3995ab70725f1cb78",
       "version_major": 2,
       "version_minor": 0
      },
      "text/plain": [
       "FloatText(value=0.0, description='Other Costs')"
      ]
     },
     "metadata": {},
     "output_type": "display_data"
    },
    {
     "data": {
      "application/vnd.jupyter.widget-view+json": {
       "model_id": "3fc319b8e6274f35aac9e384b35feae4",
       "version_major": 2,
       "version_minor": 0
      },
      "text/plain": [
       "Button(description='Generate', icon='check', style=ButtonStyle(), tooltip='Generate Profit Breakdown')"
      ]
     },
     "metadata": {},
     "output_type": "display_data"
    }
   ],
   "source": [
    "#comment\n",
    "def generate_profit_graph(self):\n",
    "    categories = ['Profit', 'Cost of Ingredients', 'Delivery Costs', 'Other Costs']\n",
    "\n",
    "    weekly_earning = float(weekly_revenue)\n",
    "    ingredient_costs = ingredients.value\n",
    "    delivery_costs = delivery.value\n",
    "    other_costs = other.value\n",
    "\n",
    "    values = [\n",
    "        weekly_earning - ingredient_costs - delivery_costs - other_costs,\n",
    "        ingredient_costs,\n",
    "        delivery_costs,\n",
    "        other_costs\n",
    "    ]\n",
    "\n",
    "    colors = ['g', 'r', 'y', 'b']\n",
    "\n",
    "    plt.figure(figsize=(5, 2.7), layout='constrained')\n",
    "\n",
    "    plt.pie(\n",
    "        values,\n",
    "        labels=categories,\n",
    "        colors=colors,\n",
    "        startangle=90,\n",
    "        autopct='%1.0f%%',\n",
    "        explode=(0.1,0,0,0),\n",
    "        shadow=True\n",
    "    )\n",
    "\n",
    "    plt.title('Breakdown of Actual Profit vs Costs')\n",
    "\n",
    "    plt.show()\n",
    "\n",
    "\n",
    "weekly = widgets.FloatText(\n",
    "    description='Weekly',\n",
    "    disabled=True,\n",
    "    value=weekly_revenue\n",
    ")\n",
    "ingredients = widgets.FloatText(\n",
    "    description='Ingredient'\n",
    ")\n",
    "delivery = widgets.FloatText(\n",
    "    description='Delivery'\n",
    ")\n",
    "other = widgets.FloatText(\n",
    "    description='Other Costs'\n",
    ")\n",
    "\n",
    "generate_button = widgets.Button(\n",
    "    description='Generate',\n",
    "    disabled=False,\n",
    "    button_style='', # 'success', 'info', 'warning', 'danger' or ''\n",
    "    tooltip='Generate Profit Breakdown',\n",
    "    icon='check'\n",
    ")\n",
    "\n",
    "generate_button.on_click(generate_profit_graph)\n",
    "\n",
    "display(weekly, ingredients, delivery, other, generate_button)"
   ]
  },
  {
   "cell_type": "markdown",
   "id": "9f91ee7a",
   "metadata": {
    "jp-MarkdownHeadingCollapsed": true,
    "pycharm": {
     "name": "#%% md\n"
    },
    "tags": []
   },
   "source": [
    "## Total Earnings vs Actual Profit (Pie Graph) [Weekly]"
   ]
  },
  {
   "cell_type": "code",
   "execution_count": 7,
   "id": "3fc0c76e",
   "metadata": {
    "pycharm": {
     "name": "#%%\n"
    }
   },
   "outputs": [
    {
     "data": {
      "image/png": "[encoded data removed]",
      "text/plain": [
       "<Figure size 360x194.4 with 1 Axes>"
      ]
     },
     "metadata": {},
     "output_type": "display_data"
    }
   ],
   "source": [
    "categories = ['Profit', 'Cost of Ingredients', 'Delivery Costs', 'Other Costs']\n",
    "\n",
    "weekly_earning = 20000\n",
    "ingredient_costs = 1500\n",
    "delivery_costs = 1000\n",
    "other_costs = 2000\n",
    "\n",
    "values = [\n",
    "    weekly_earning - ingredient_costs - delivery_costs - other_costs,\n",
    "    ingredient_costs,\n",
    "    delivery_costs,\n",
    "    other_costs\n",
    "]\n",
    "\n",
    "colors = ['g', 'r', 'y', 'b']\n",
    "\n",
    "plt.figure(figsize=(5, 2.7), layout='constrained')\n",
    "\n",
    "plt.pie(\n",
    "    values,\n",
    "    labels=categories,\n",
    "    colors=colors,\n",
    "    startangle=90,\n",
    "    autopct='%1.0f%%',\n",
    "    explode=(0.1,0,0,0),\n",
    "    shadow=True\n",
    ")\n",
    "\n",
    "plt.title('Breakdown of Actual Profit vs Costs')\n",
    "\n",
    "plt.show()"
   ]
  }
 ],
 "metadata": {
  "kernelspec": {
   "display_name": "Python 3 (ipykernel)",
   "language": "python",
   "name": "python3"
  },
  "language_info": {
   "codemirror_mode": {
    "name": "ipython",
    "version": 3
   },
   "file_extension": ".py",
   "mimetype": "text/x-python",
   "name": "python",
   "nbconvert_exporter": "python",
   "pygments_lexer": "ipython3",
   "version": "3.10.4"
  }
 },
 "nbformat": 4,
 "nbformat_minor": 5
}
